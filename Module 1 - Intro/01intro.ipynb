{
 "cells": [
  {
   "cell_type": "code",
   "execution_count": 1,
   "id": "c981f20e-bc7b-4d0a-8770-6596d9f3e302",
   "metadata": {},
   "outputs": [],
   "source": [
    "import openai \n",
    "from openai import OpenAI\n",
    "import os"
   ]
  },
  {
   "cell_type": "code",
   "execution_count": 6,
   "id": "ede838d2-1356-44d0-811c-14435728cb50",
   "metadata": {},
   "outputs": [
    {
     "name": "stdout",
     "output_type": "stream",
     "text": [
      "The meaning of life! This is a question that has puzzled philosophers, theologians, scientists, and everyday people for centuries. There is no one definitive answer, as it can vary greatly depending on an individual's beliefs, experiences, and cultural background. However, I can provide some insights and perspectives that might be helpful.\n",
      "\n",
      "**Philosophical perspectives:**\n",
      "\n",
      "1. **Existentialism**: The meaning of life is not predetermined, but rather created by each individual through their choices, actions, and experiences.\n",
      "2. **Determinism**: The meaning of life is predetermined by external factors, such as genetics, environment, or fate.\n",
      "3. **Humanism**: The meaning of life is to seek happiness, fulfillment, and personal growth through rational thought, empathy, and self-awareness.\n",
      "\n",
      "**Religious and spiritual perspectives:**\n",
      "\n",
      "1. **Theism**: The meaning of life is to fulfill God's plan, follow divine commandments, and strive for spiritual enlightenment.\n",
      "2. **Atheism**: Life has no inherent meaning, but individuals can create their own purpose and meaning through personal experiences and relationships.\n",
      "3. **Spiritualism**: The meaning of life is to connect with a higher power, universe, or nature, and to seek spiritual growth and enlightenment.\n",
      "\n",
      "**Scientific perspectives:**\n",
      "\n",
      "1. **Biological**: The meaning of life is to survive, reproduce, and pass on genetic material to future generations.\n",
      "2. **Psychological**: The meaning of life is to pursue happiness, well-being, and self-actualization through personal growth and fulfillment.\n",
      "3. **Evolutionary**: The meaning of life is to adapt, evolve, and contribute to the advancement of the human species.\n",
      "\n",
      "**Personal perspectives:**\n",
      "\n",
      "1. **Pursuit of happiness**: The meaning of life is to seek joy, contentment, and satisfaction through personal experiences, relationships, and achievements.\n",
      "2. **Self-actualization**: The meaning of life is to realize one's full potential, explore personal interests, and make a positive impact on the world.\n",
      "3. **Legacy**: The meaning of life is to leave a lasting impact, create something of value, or make a difference in the lives of others.\n",
      "\n",
      "Ultimately, the meaning of life is subjective and can vary from person to person. It may be a combination of these perspectives or something entirely unique. What gives your life meaning and purpose?\n"
     ]
    }
   ],
   "source": [
    "client = OpenAI(\n",
    "  base_url=\"https://openrouter.ai/api/v1\"\n",
    ")\n",
    "completion = client.chat.completions.create(\n",
    "  model=\"meta-llama/llama-3.3-70b-instruct:free\",\n",
    "  messages=[\n",
    "    {\n",
    "      \"role\": \"user\",\n",
    "      \"content\": \"What is the meaning of life?\"\n",
    "    }\n",
    "  ]\n",
    ")\n",
    "print(completion.choices[0].message.content)"
   ]
  },
  {
   "cell_type": "code",
   "execution_count": null,
   "id": "a2f14cde-2595-467f-a651-33de1bcd0764",
   "metadata": {},
   "outputs": [],
   "source": []
  }
 ],
 "metadata": {
  "kernelspec": {
   "display_name": "Python 3 (ipykernel)",
   "language": "python",
   "name": "python3"
  },
  "language_info": {
   "codemirror_mode": {
    "name": "ipython",
    "version": 3
   },
   "file_extension": ".py",
   "mimetype": "text/x-python",
   "name": "python",
   "nbconvert_exporter": "python",
   "pygments_lexer": "ipython3",
   "version": "3.12.1"
  }
 },
 "nbformat": 4,
 "nbformat_minor": 5
}
